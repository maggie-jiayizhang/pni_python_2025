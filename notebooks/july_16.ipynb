{
 "cells": [
  {
   "cell_type": "markdown",
   "id": "e3b476f4",
   "metadata": {},
   "source": [
    "# Advanced Python: PCA, UMAP and clustering\n",
    "\n",
    "<center>\n",
    "<img src=\"../pictures/seurat_seascape.jpg\" style=\"width:465px;height:375px;\">\n",
    "<br>\n",
    "<i>Seascape at Port-en-Bessin, Normandy (1888, Georges Seurat)</i>\n",
    "</center>\n",
    "\n",
    "In the previuos session, we have seen PCA as a dimensionality reduction technique. Today, we will review PCA and introduce UMAP, another (more complex) dimensionality reduction method."
   ]
  },
  {
   "cell_type": "code",
   "execution_count": 3,
   "id": "70272d0a",
   "metadata": {},
   "outputs": [],
   "source": [
    "# import packages\n",
    "import numpy as np\n",
    "import matplotlib.pyplot as plt\n",
    "from sklearn.preprocessing import StandardScaler\n",
    "from sklearn.decomposition import PCA"
   ]
  },
  {
   "cell_type": "code",
   "execution_count": 4,
   "id": "6950d0c4",
   "metadata": {},
   "outputs": [],
   "source": [
    "# load dataset\n",
    "from sklearn.datasets import load_digits\n",
    "digits = load_digits()\n",
    "digits_data = digits.data\n",
    "digits_target = digits.target\n",
    "\n",
    "# standardize (demean + scale) the data\n",
    "scaler = StandardScaler()\n",
    "digits_data_scaled = scaler.fit_transform(digits_data)\n",
    "\n",
    "# apply PCA\n",
    "pca = PCA()\n",
    "digits_data_pca = pca.fit_transform(digits_data_scaled)"
   ]
  },
  {
   "cell_type": "markdown",
   "id": "f8f4dc13",
   "metadata": {},
   "source": [
    "Generally, there are a few things we care about after we perform PCA:\n",
    "1. How many PCs do we need to explain a certain amount of *variance*?\n",
    "2. Is there something interesting about the *PC*s?\n",
    "   - Are the PCs correlated with some of the original features?\n",
    "3. What are the *loadings*? i.e. What do our data look like in the PC space?\n",
    "\n",
    "### Exercises:\n",
    "1. Visualize the digits dataset in terms of the first 2 PCs. \n",
    "    > Plot each samples loading/projection onto the first 2 PCs.\n",
    "    1. What do you see?\n",
    "    2. Are there any clusters?\n",
    "2. What do the first 2 PCs look like?"
   ]
  },
  {
   "cell_type": "markdown",
   "id": "500b206d",
   "metadata": {},
   "source": [
    "### Enter UMAP (Uniform Manifold Approximation and Projection)"
   ]
  },
  {
   "cell_type": "code",
   "execution_count": 5,
   "id": "a52d50e4",
   "metadata": {},
   "outputs": [],
   "source": [
    "import umap"
   ]
  },
  {
   "cell_type": "markdown",
   "id": "c675edd5",
   "metadata": {},
   "source": [
    "### Clustering\n",
    "Here, we introduce K-means clustering as an example of clustering algorithm."
   ]
  },
  {
   "cell_type": "code",
   "execution_count": null,
   "id": "db795bdf",
   "metadata": {},
   "outputs": [],
   "source": [
    "from sklearn.cluster import KMeans\n",
    "from sklearn.metrics import adjusted_rand_score"
   ]
  }
 ],
 "metadata": {
  "kernelspec": {
   "display_name": "pni_python",
   "language": "python",
   "name": "python3"
  },
  "language_info": {
   "codemirror_mode": {
    "name": "ipython",
    "version": 3
   },
   "file_extension": ".py",
   "mimetype": "text/x-python",
   "name": "python",
   "nbconvert_exporter": "python",
   "pygments_lexer": "ipython3",
   "version": "3.13.4"
  }
 },
 "nbformat": 4,
 "nbformat_minor": 5
}
