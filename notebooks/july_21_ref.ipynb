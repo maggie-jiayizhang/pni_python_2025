{
 "cells": [
  {
   "cell_type": "markdown",
   "id": "fc259907",
   "metadata": {},
   "source": [
    "# Advanced Python: BYONN\n",
    "**B**uild **Y**our **O**wn **N**eural **N**etwork\n",
    "\n",
    "<center>\n",
    "<img src=\"../pictures/okeeffe_bird.jpg\" style=\"width:480px;height:360px;\">\n",
    "<br>\n",
    "<i>A Black Bird with Snow-Covered Red Hills (1946, Georgia O'Keeffe)</i>\n",
    "</center>\n",
    "\n",
    "In the last sessions, we will explore the basics of building a neural network in Python. The goal is to understand the framework and packages well enough so that you can go on and explore on you own. Here, we will start from the very basics -- **Object-Oriented Programming (OOP)**.\n",
    "\n",
    "References:\n",
    "- [Class Notes (CMU-15112) Object-Oriented Programming(OOP)](https://www.krivers.net/15112-f18/notes/notes-oop.html)"
   ]
  },
  {
   "cell_type": "markdown",
   "id": "1a07183e",
   "metadata": {},
   "source": [
    "### Warm-up Exercises:\n",
    "1. What is a `type` in Python? Give 3 examples of types.\n",
    "\n",
    "Key idea: An `object` is a data structure that contains user-defined `properties` and `methods`. Now imagine in an alternative world, I want an object (class) `Bird` that has properties like `species`, `wing_span` and `color`. Maybe we even want to record where it is in the world (`x`, `y`)..."
   ]
  },
  {
   "cell_type": "code",
   "execution_count": null,
   "id": "2e2de9ae",
   "metadata": {},
   "outputs": [],
   "source": [
    "class Bird(object):\n",
    "    # all objects needs an __init__ method\n",
    "    def __init__(self, species, wing_span, color):\n",
    "        self.species = species\n",
    "        self.wing_span = wing_span\n",
    "        self.color = color\n",
    "\n",
    "        # all the bird start at the origin\n",
    "        self.x = 0\n",
    "        self.y = 0"
   ]
  },
  {
   "cell_type": "code",
   "execution_count": 6,
   "id": "4caed037",
   "metadata": {},
   "outputs": [
    {
     "name": "stdout",
     "output_type": "stream",
     "text": [
      "<class '__main__.Bird'>\n",
      "Chickadee\n",
      "2.0\n"
     ]
    }
   ],
   "source": [
    "greatBlueHeron = Bird(\"Great Blue Heron\", 2.0, \"blue-gray\")\n",
    "chikadee = Bird(\"Chickadee\", 0.3, \"black-capped\")\n",
    "\n",
    "print(type(chikadee))\n",
    "print(chikadee.species)\n",
    "print(greatBlueHeron.wing_span)"
   ]
  },
  {
   "cell_type": "markdown",
   "id": "5bd1b553",
   "metadata": {},
   "source": [
    "Suppose all `Bird` can `fly`. We will add a method `fly` to our `Bird` class that updates the position of the bird by a given distance in the x and y direction. We could even have the `Bird` report where it is in our world."
   ]
  },
  {
   "cell_type": "code",
   "execution_count": 8,
   "id": "05754d42",
   "metadata": {},
   "outputs": [],
   "source": [
    "class Bird(object):\n",
    "    # all objects needs an __init__ method\n",
    "    def __init__(self, species, wing_span, color):\n",
    "        self.species = species\n",
    "        self.wing_span = wing_span\n",
    "        self.color = color\n",
    "\n",
    "        # all the bird start at the origin\n",
    "        self.x = 0\n",
    "        self.y = 0\n",
    "\n",
    "    def fly(self, dx, dy):\n",
    "        self.x += dx\n",
    "        self.y += dy\n",
    "\n",
    "    def where(self):\n",
    "        print(f\"{self.species} is at ({self.x}, {self.y})\")\n",
    "        return (self.x, self.y)"
   ]
  },
  {
   "cell_type": "code",
   "execution_count": 10,
   "id": "6003ddad",
   "metadata": {},
   "outputs": [
    {
     "name": "stdout",
     "output_type": "stream",
     "text": [
      "Great Blue Heron is at (10, 2)\n",
      "Great Blue Heron is at (20, 4)\n",
      "Great Blue Heron is at (30, 6)\n",
      "Great Blue Heron is at (40, 8)\n"
     ]
    }
   ],
   "source": [
    "greatBlueHeron = Bird(\"Great Blue Heron\", 2.0, \"blue-gray\")\n",
    "\n",
    "for i in range(4):\n",
    "    greatBlueHeron.fly(10, 2)\n",
    "    greatBlueHeron.where()"
   ]
  },
  {
   "cell_type": "markdown",
   "id": "95ce904a",
   "metadata": {},
   "source": [
    "You could even define a subclass of a `Bird` (let's say `Penguin`) that has a pre-defined `fly` function that does not change the y position of the instances (because... they don't fly://)."
   ]
  },
  {
   "cell_type": "code",
   "execution_count": 14,
   "id": "be0e25f7",
   "metadata": {},
   "outputs": [],
   "source": [
    "class Penguin(Bird):\n",
    "    def __init__(self, wing_span):\n",
    "        super().__init__(\"Penguin\", wing_span, \"black and white\")\n",
    "\n",
    "    def fly(self, dx):\n",
    "        # Penguins don't fly, so we don't change the y position\n",
    "        self.x += dx\n",
    "        # self.y += dy  # Uncommenting this line would allow penguins to \"fly\"]\n",
    "\n",
    "    def isBigger(self, other):\n",
    "        return self.wing_span > other.wing_span"
   ]
  },
  {
   "cell_type": "code",
   "execution_count": 15,
   "id": "a0c493d3",
   "metadata": {},
   "outputs": [
    {
     "name": "stdout",
     "output_type": "stream",
     "text": [
      "is adelie bigger than emperor? False\n"
     ]
    }
   ],
   "source": [
    "adelie = Penguin(0.6)\n",
    "emperor = Penguin(1.0)\n",
    "\n",
    "print(\"is adelie bigger than emperor?\", adelie.isBigger(emperor))"
   ]
  },
  {
   "cell_type": "markdown",
   "id": "dadaab77",
   "metadata": {},
   "source": [
    "Wait... This feels familiar? Where have we seen *OOP* in our sessions before?\n"
   ]
  },
  {
   "cell_type": "markdown",
   "id": "9cbe924a",
   "metadata": {},
   "source": [
    "### Back to Neural Networks\n",
    "Of course, now with the knowledge of OOP, we could construct our own neural network, from scratch. OR, we could use a framework like TensorFlow or PyTorch that already implements these concepts for us."
   ]
  },
  {
   "cell_type": "code",
   "execution_count": 16,
   "id": "55d92213",
   "metadata": {},
   "outputs": [],
   "source": [
    "import numpy as np"
   ]
  },
  {
   "cell_type": "code",
   "execution_count": 19,
   "id": "4c8a3585",
   "metadata": {},
   "outputs": [],
   "source": [
    "class Neuron(object):\n",
    "    def __init__(self, weights, bias, activation):\n",
    "        self.weights = weights\n",
    "        self.bias = bias\n",
    "        self.activation = activation\n",
    "\n",
    "    def compute(self, inputs):\n",
    "        z = sum(w * i for w, i in zip(self.weights, inputs)) + self.bias\n",
    "        # python can take a function as an input\n",
    "        return self.activation(z)"
   ]
  },
  {
   "cell_type": "code",
   "execution_count": null,
   "id": "641a1d3f",
   "metadata": {},
   "outputs": [],
   "source": [
    "def sigmoid(x):\n",
    "    return 1 / (1 + np.exp(-x)) \n",
    "\n",
    "def relu(x):\n",
    "    return max(0, x)\n",
    "\n",
    "def linear(x):\n",
    "    return x"
   ]
  },
  {
   "cell_type": "code",
   "execution_count": 20,
   "id": "da005ff9",
   "metadata": {},
   "outputs": [
    {
     "data": {
      "text/plain": [
       "np.float64(0.549833997312478)"
      ]
     },
     "execution_count": 20,
     "metadata": {},
     "output_type": "execute_result"
    }
   ],
   "source": [
    "neuron1 = Neuron(weights=[0.5, -0.2], bias=0.1, activation=sigmoid)\n",
    "neuron1.compute([1.0, 2.0])"
   ]
  },
  {
   "cell_type": "markdown",
   "id": "247cf2e5",
   "metadata": {},
   "source": [
    "It would be troublesome to write out code to initiate each of the neurons; not to mention that most of the times, the neurons themselves are the same within a layer. Therefore, with `pytorch`, the smallest \"units\" are often thought of as `layers`. "
   ]
  },
  {
   "cell_type": "code",
   "execution_count": 22,
   "id": "787ad442",
   "metadata": {},
   "outputs": [],
   "source": [
    "import torch\n",
    "import torch.nn as nn"
   ]
  },
  {
   "cell_type": "markdown",
   "id": "63803e02",
   "metadata": {},
   "source": [
    "For example, a `Linear` layer in `pytorch` is a layer that has a set of weights and biases, and applies a linear transformation to the input*. The `Linear` layer can be thought of as a collection of neurons that are connected to the input.\n",
    "\n",
    "*Formally, for incoming data $x$, the output is given by $$y=xA^T + b $$\n",
    "\n",
    "where $A$ is the weight matrix and $b$ is the bias vector.\n",
    "\n"
   ]
  },
  {
   "cell_type": "code",
   "execution_count": 24,
   "id": "980f0c6a",
   "metadata": {},
   "outputs": [
    {
     "name": "stdout",
     "output_type": "stream",
     "text": [
      "torch.Size([5, 20])\n"
     ]
    }
   ],
   "source": [
    "l1 = nn.Linear(10, 20) # in_feature, out_feature\n",
    "\n",
    "inputs = torch.rand((5, 10)) # batch/sample size, in_feature\n",
    "outputs = l1(inputs) # outputs will be of shape (5, 20)\n",
    "\n",
    "print(outputs.shape)"
   ]
  },
  {
   "cell_type": "markdown",
   "id": "78a14ed5",
   "metadata": {},
   "source": [
    "A single layer does not carry you far. To define a feedfoward neural network, we typically need to stack multiple layers. In `pytorch`, we can define any neural network by defining a class that inherits from `nn.Module` (base class for all neural network modules, [doc](https://docs.pytorch.org/docs/stable/generated/torch.nn.Module.html))."
   ]
  },
  {
   "cell_type": "code",
   "execution_count": null,
   "id": "93d2dac2",
   "metadata": {},
   "outputs": [],
   "source": [
    "class simpleNN(nn.Module): # inherit from nn.Module\n",
    "    def __init__(self):\n",
    "        super(simpleNN, self).__init__()\n",
    "        # 2 linear layers\n",
    "        self.layer1 = nn.Linear(10, 20)\n",
    "        self.layer2 = nn.Linear(20, 5)\n",
    "\n",
    "    def forward(self, x):\n",
    "        x = self.layer1(x)\n",
    "        x = torch.relu(x)  # using ReLU activation\n",
    "        x = self.layer2(x)\n",
    "        return x"
   ]
  }
 ],
 "metadata": {
  "kernelspec": {
   "display_name": "pni_python",
   "language": "python",
   "name": "python3"
  },
  "language_info": {
   "codemirror_mode": {
    "name": "ipython",
    "version": 3
   },
   "file_extension": ".py",
   "mimetype": "text/x-python",
   "name": "python",
   "nbconvert_exporter": "python",
   "pygments_lexer": "ipython3",
   "version": "3.13.4"
  }
 },
 "nbformat": 4,
 "nbformat_minor": 5
}
