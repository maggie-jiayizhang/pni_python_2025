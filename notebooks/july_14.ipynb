{
 "cells": [
  {
   "cell_type": "markdown",
   "id": "ab5bcb03",
   "metadata": {},
   "source": [
    "# Advanced Python: Principal Component Analysis (PCA)\n",
    "\n",
    "<center>\n",
    "<img src=\"../pictures/escher_pattern.avif\" style=\"width:676px;height:392px;\">\n",
    "<br>\n",
    "<i>Day and Night (1938, M.C. Escher)</i>\n",
    "</center>\n",
    "\n",
    "Principal Component Analysis (PCA) is a powerful technique for dimensionality reduction and data visualization and usually a good first step in data analysis in neuroscience, psychology and beyond. In this week's sessions, we will explore PCA with 2 sklearn built-in datasets.\n",
    "\n",
    "A secondary theme is to practice showing and manipulating *images* in Python. We will start with handwritten digits and progress to work with images of faces.\n",
    "\n",
    "References:\n",
    "1. [Importance of Feature Scaling](https://scikit-learn.org/stable/auto_examples/preprocessing/plot_scaling_importance.html)"
   ]
  },
  {
   "cell_type": "markdown",
   "id": "6400e5b0",
   "metadata": {},
   "source": [
    "## PCA with digits dataset"
   ]
  },
  {
   "cell_type": "code",
   "execution_count": 1,
   "id": "cbe1437f",
   "metadata": {},
   "outputs": [],
   "source": [
    "# import packages\n",
    "import numpy as np\n",
    "import matplotlib.pyplot as plt"
   ]
  },
  {
   "cell_type": "code",
   "execution_count": 2,
   "id": "6e5b9c91",
   "metadata": {},
   "outputs": [],
   "source": [
    "# load dataset\n",
    "from sklearn.datasets import load_digits\n",
    "digits = load_digits()\n",
    "digits_data = digits.data\n",
    "digits_target = digits.target"
   ]
  },
  {
   "cell_type": "markdown",
   "id": "827ae5b7",
   "metadata": {},
   "source": [
    "### Warm-up exercises:\n",
    "1. `digits_data` contains all the samples of handwritten digits and is of shape (n_samples, n_features); `digits_target` contains the corresponding labels.\n",
    "   1. What is the shape of `digits_data` and `digits_target`?\n",
    "   2. How many *unique* labels are there in `digits_target`?\n",
    "2. Turns out, each sample in `digits_data` is a (square) image.\n",
    "   1. Use `plt.imshow` to visualize first 4 samples.\n",
    "   > *Hint:* You should use `reshape` to convert the 1D array into a 2D array.\n",
    "3. (Grayscale) Images and 2D arrays of pixel values are just 2 sides of the same coin. (Feel free to print out the values for some example images.) How can you flip the image horizontally or vertically using slicing? On your own, add and subtract images together to create new images. What effects do you see?"
   ]
  },
  {
   "cell_type": "code",
   "execution_count": 3,
   "id": "9ec9bd3a",
   "metadata": {},
   "outputs": [],
   "source": [
    "# put your code here"
   ]
  },
  {
   "cell_type": "code",
   "execution_count": null,
   "id": "d2cc56f5",
   "metadata": {},
   "outputs": [],
   "source": []
  },
  {
   "cell_type": "code",
   "execution_count": null,
   "id": "7693c65f",
   "metadata": {},
   "outputs": [],
   "source": []
  },
  {
   "cell_type": "markdown",
   "id": "98f4d9be",
   "metadata": {},
   "source": [
    "### Preprocess the data\n",
    "Prior to applying PCA, we will standardize the data by scaling each feature to unit variance and zero 0 (typically `sklearn.PCA` deals with demeaning internally, but it does not scale the data to unit variance)."
   ]
  },
  {
   "cell_type": "code",
   "execution_count": 4,
   "id": "a961de10",
   "metadata": {},
   "outputs": [],
   "source": [
    "from sklearn.preprocessing import StandardScaler\n",
    "scaler = StandardScaler()\n",
    "digits_data_scaled = scaler.fit_transform(digits_data)"
   ]
  },
  {
   "cell_type": "markdown",
   "id": "02ef7de6",
   "metadata": {},
   "source": [
    "### Run PCA\n",
    "We can use a built-in PCA implementation from `sklearn.decomposition`. Similarly to linear regression, we need to first create a PCA object."
   ]
  },
  {
   "cell_type": "code",
   "execution_count": null,
   "id": "40d2fc58",
   "metadata": {},
   "outputs": [],
   "source": []
  },
  {
   "cell_type": "markdown",
   "id": "caa276c5",
   "metadata": {},
   "source": [
    "### Exercises\n",
    "1. Go to the documentation of `sklearn.decomposition.PCA` and find out what the *attributes* are for the PCA object.\n",
    "2. Plot *cumulative* explained variance ratio for our PCA object. What trend do you expect to see (if any)? How many components do you need to capture 60% of the variance? How many for 80%? How many for 90%?\n",
    "3. How much variance is explained by the first 2 components? How about the first 3 components?"
   ]
  },
  {
   "cell_type": "code",
   "execution_count": null,
   "id": "c7789f83",
   "metadata": {},
   "outputs": [],
   "source": []
  },
  {
   "cell_type": "markdown",
   "id": "c7e66af9",
   "metadata": {},
   "source": [
    "### Exercises\n",
    "1. Check the components of PCA object. What are they?\n",
    "   > *Hint:* You can use `pca.components_` to get the components.\n",
    "2. Visualize the first 12 components as images.\n",
    "3. Check sample 0's PCA projection. What are the most important components for this sample?\n",
    "4. Visualize sample 0 now compressed into the first 12 components. How does it look like? How does it compare to the original image? "
   ]
  },
  {
   "cell_type": "code",
   "execution_count": null,
   "id": "275a2a7f",
   "metadata": {},
   "outputs": [],
   "source": []
  },
  {
   "cell_type": "code",
   "execution_count": null,
   "id": "57d4b188",
   "metadata": {},
   "outputs": [],
   "source": []
  },
  {
   "cell_type": "code",
   "execution_count": null,
   "id": "31ebeae0",
   "metadata": {},
   "outputs": [],
   "source": []
  }
 ],
 "metadata": {
  "kernelspec": {
   "display_name": "pni_python",
   "language": "python",
   "name": "python3"
  },
  "language_info": {
   "codemirror_mode": {
    "name": "ipython",
    "version": 3
   },
   "file_extension": ".py",
   "mimetype": "text/x-python",
   "name": "python",
   "nbconvert_exporter": "python",
   "pygments_lexer": "ipython3",
   "version": "3.13.4"
  }
 },
 "nbformat": 4,
 "nbformat_minor": 5
}
